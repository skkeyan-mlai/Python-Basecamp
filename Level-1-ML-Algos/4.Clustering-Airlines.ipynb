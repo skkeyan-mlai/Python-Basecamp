{
 "cells": [
  {
   "cell_type": "markdown",
   "metadata": {
    "slideshow": {
     "slide_type": "slide"
    }
   },
   "source": [
    "# Python Basecamp (Chennai)\n",
    "\n",
    "### Karthikeyan Sankaran, 17th June, 2018"
   ]
  },
  {
   "cell_type": "markdown",
   "metadata": {
    "slideshow": {
     "slide_type": "subslide"
    }
   },
   "source": [
    "## Unsupervised Machine Learning on Structured data - Clustering\n",
    "> Market Segmentation of Airline Customers \n",
    "\n",
    "Market segmentation is a strategy that divides a broad target market of customers into smaller, more similar groups, and then designs a marketing strategy specifically for each group. Clustering is a common technique for market segmentation since it automatically finds similar groups given a data set. \n",
    "\n",
    "In this problem, we'll see how clustering can be used to find similar groups of customers who belong to an airline's frequent flyer program. The airline is trying to learn more about its customers so that it can target different customer segments with different types of mileage offers. The file AirlinesCluster.csv contains information on 3,999 members of the frequent flyer program.\n",
    "\n",
    "There are seven different variables in the dataset, described below:\n",
    "* Balance = number of miles eligible for award travel\n",
    "* QualMiles = number of miles qualifying for TopFlight status\n",
    "* BonusMiles = number of miles earned from non-flight bonus transactions in the past 12 months\n",
    "* BonusTrans = number of non-flight bonus transactions in the past 12 months\n",
    "* FlightMiles = number of flight miles in the past 12 months\n",
    "* FlightTrans = number of flight transactions in the past 12 months\n",
    "* DaysSinceEnroll = number of days since enrolled in the frequent flyer program"
   ]
  },
  {
   "cell_type": "code",
   "execution_count": 1,
   "metadata": {
    "collapsed": true,
    "slideshow": {
     "slide_type": "subslide"
    }
   },
   "outputs": [],
   "source": [
    "# Import the libraries\n",
    "import numpy as np\n",
    "import pandas as pd\n",
    "import matplotlib.pyplot as plt\n",
    "%matplotlib inline\n",
    "import seaborn as sns"
   ]
  },
  {
   "cell_type": "markdown",
   "metadata": {
    "slideshow": {
     "slide_type": "subslide"
    }
   },
   "source": [
    "** Read the dataset into a pandas dataframe **"
   ]
  },
  {
   "cell_type": "code",
   "execution_count": 2,
   "metadata": {
    "slideshow": {
     "slide_type": "fragment"
    }
   },
   "outputs": [
    {
     "data": {
      "text/html": [
       "<div>\n",
       "<style scoped>\n",
       "    .dataframe tbody tr th:only-of-type {\n",
       "        vertical-align: middle;\n",
       "    }\n",
       "\n",
       "    .dataframe tbody tr th {\n",
       "        vertical-align: top;\n",
       "    }\n",
       "\n",
       "    .dataframe thead th {\n",
       "        text-align: right;\n",
       "    }\n",
       "</style>\n",
       "<table border=\"1\" class=\"dataframe\">\n",
       "  <thead>\n",
       "    <tr style=\"text-align: right;\">\n",
       "      <th></th>\n",
       "      <th>Balance</th>\n",
       "      <th>QualMiles</th>\n",
       "      <th>BonusMiles</th>\n",
       "      <th>BonusTrans</th>\n",
       "      <th>FlightMiles</th>\n",
       "      <th>FlightTrans</th>\n",
       "      <th>DaysSinceEnroll</th>\n",
       "    </tr>\n",
       "  </thead>\n",
       "  <tbody>\n",
       "    <tr>\n",
       "      <th>0</th>\n",
       "      <td>28143</td>\n",
       "      <td>0</td>\n",
       "      <td>174</td>\n",
       "      <td>1</td>\n",
       "      <td>0</td>\n",
       "      <td>0</td>\n",
       "      <td>7000</td>\n",
       "    </tr>\n",
       "    <tr>\n",
       "      <th>1</th>\n",
       "      <td>19244</td>\n",
       "      <td>0</td>\n",
       "      <td>215</td>\n",
       "      <td>2</td>\n",
       "      <td>0</td>\n",
       "      <td>0</td>\n",
       "      <td>6968</td>\n",
       "    </tr>\n",
       "    <tr>\n",
       "      <th>2</th>\n",
       "      <td>41354</td>\n",
       "      <td>0</td>\n",
       "      <td>4123</td>\n",
       "      <td>4</td>\n",
       "      <td>0</td>\n",
       "      <td>0</td>\n",
       "      <td>7034</td>\n",
       "    </tr>\n",
       "    <tr>\n",
       "      <th>3</th>\n",
       "      <td>14776</td>\n",
       "      <td>0</td>\n",
       "      <td>500</td>\n",
       "      <td>1</td>\n",
       "      <td>0</td>\n",
       "      <td>0</td>\n",
       "      <td>6952</td>\n",
       "    </tr>\n",
       "    <tr>\n",
       "      <th>4</th>\n",
       "      <td>97752</td>\n",
       "      <td>0</td>\n",
       "      <td>43300</td>\n",
       "      <td>26</td>\n",
       "      <td>2077</td>\n",
       "      <td>4</td>\n",
       "      <td>6935</td>\n",
       "    </tr>\n",
       "  </tbody>\n",
       "</table>\n",
       "</div>"
      ],
      "text/plain": [
       "   Balance  QualMiles  BonusMiles  BonusTrans  FlightMiles  FlightTrans  \\\n",
       "0    28143          0         174           1            0            0   \n",
       "1    19244          0         215           2            0            0   \n",
       "2    41354          0        4123           4            0            0   \n",
       "3    14776          0         500           1            0            0   \n",
       "4    97752          0       43300          26         2077            4   \n",
       "\n",
       "   DaysSinceEnroll  \n",
       "0             7000  \n",
       "1             6968  \n",
       "2             7034  \n",
       "3             6952  \n",
       "4             6935  "
      ]
     },
     "execution_count": 2,
     "metadata": {},
     "output_type": "execute_result"
    }
   ],
   "source": [
    "airCust = pd.read_csv('../datasets/AirlinesFreqFliers.csv')\n",
    "airCust.head()"
   ]
  },
  {
   "cell_type": "markdown",
   "metadata": {
    "slideshow": {
     "slide_type": "subslide"
    }
   },
   "source": [
    "** Select the columns for clustering **"
   ]
  },
  {
   "cell_type": "code",
   "execution_count": 3,
   "metadata": {
    "collapsed": true,
    "slideshow": {
     "slide_type": "fragment"
    }
   },
   "outputs": [],
   "source": [
    "cluster_columns = ['Balance','QualMiles','BonusMiles','BonusTrans','FlightMiles','FlightTrans','DaysSinceEnroll']"
   ]
  },
  {
   "cell_type": "markdown",
   "metadata": {
    "slideshow": {
     "slide_type": "subslide"
    }
   },
   "source": [
    "** Scale the data so that all columns are in the same range **"
   ]
  },
  {
   "cell_type": "code",
   "execution_count": 4,
   "metadata": {
    "slideshow": {
     "slide_type": "fragment"
    }
   },
   "outputs": [
    {
     "data": {
      "text/html": [
       "<div>\n",
       "<style scoped>\n",
       "    .dataframe tbody tr th:only-of-type {\n",
       "        vertical-align: middle;\n",
       "    }\n",
       "\n",
       "    .dataframe tbody tr th {\n",
       "        vertical-align: top;\n",
       "    }\n",
       "\n",
       "    .dataframe thead th {\n",
       "        text-align: right;\n",
       "    }\n",
       "</style>\n",
       "<table border=\"1\" class=\"dataframe\">\n",
       "  <thead>\n",
       "    <tr style=\"text-align: right;\">\n",
       "      <th></th>\n",
       "      <th>Balance</th>\n",
       "      <th>QualMiles</th>\n",
       "      <th>BonusMiles</th>\n",
       "      <th>BonusTrans</th>\n",
       "      <th>FlightMiles</th>\n",
       "      <th>FlightTrans</th>\n",
       "      <th>DaysSinceEnroll</th>\n",
       "    </tr>\n",
       "  </thead>\n",
       "  <tbody>\n",
       "    <tr>\n",
       "      <th>0</th>\n",
       "      <td>0.016508</td>\n",
       "      <td>0.0</td>\n",
       "      <td>0.000660</td>\n",
       "      <td>0.011628</td>\n",
       "      <td>0.000000</td>\n",
       "      <td>0.000000</td>\n",
       "      <td>0.843780</td>\n",
       "    </tr>\n",
       "    <tr>\n",
       "      <th>1</th>\n",
       "      <td>0.011288</td>\n",
       "      <td>0.0</td>\n",
       "      <td>0.000815</td>\n",
       "      <td>0.023256</td>\n",
       "      <td>0.000000</td>\n",
       "      <td>0.000000</td>\n",
       "      <td>0.839923</td>\n",
       "    </tr>\n",
       "    <tr>\n",
       "      <th>2</th>\n",
       "      <td>0.024257</td>\n",
       "      <td>0.0</td>\n",
       "      <td>0.015636</td>\n",
       "      <td>0.046512</td>\n",
       "      <td>0.000000</td>\n",
       "      <td>0.000000</td>\n",
       "      <td>0.847878</td>\n",
       "    </tr>\n",
       "    <tr>\n",
       "      <th>3</th>\n",
       "      <td>0.008667</td>\n",
       "      <td>0.0</td>\n",
       "      <td>0.001896</td>\n",
       "      <td>0.011628</td>\n",
       "      <td>0.000000</td>\n",
       "      <td>0.000000</td>\n",
       "      <td>0.837994</td>\n",
       "    </tr>\n",
       "    <tr>\n",
       "      <th>4</th>\n",
       "      <td>0.057338</td>\n",
       "      <td>0.0</td>\n",
       "      <td>0.164211</td>\n",
       "      <td>0.302326</td>\n",
       "      <td>0.067398</td>\n",
       "      <td>0.075472</td>\n",
       "      <td>0.835945</td>\n",
       "    </tr>\n",
       "  </tbody>\n",
       "</table>\n",
       "</div>"
      ],
      "text/plain": [
       "    Balance  QualMiles  BonusMiles  BonusTrans  FlightMiles  FlightTrans  \\\n",
       "0  0.016508        0.0    0.000660    0.011628     0.000000     0.000000   \n",
       "1  0.011288        0.0    0.000815    0.023256     0.000000     0.000000   \n",
       "2  0.024257        0.0    0.015636    0.046512     0.000000     0.000000   \n",
       "3  0.008667        0.0    0.001896    0.011628     0.000000     0.000000   \n",
       "4  0.057338        0.0    0.164211    0.302326     0.067398     0.075472   \n",
       "\n",
       "   DaysSinceEnroll  \n",
       "0         0.843780  \n",
       "1         0.839923  \n",
       "2         0.847878  \n",
       "3         0.837994  \n",
       "4         0.835945  "
      ]
     },
     "execution_count": 4,
     "metadata": {},
     "output_type": "execute_result"
    }
   ],
   "source": [
    "from sklearn.preprocessing import MaxAbsScaler\n",
    "scaler = MaxAbsScaler()\n",
    "\n",
    "cluster_df = scaler.fit_transform(airCust[cluster_columns])\n",
    "cluster_df = pd.DataFrame(cluster_df, columns=cluster_columns)\n",
    "\n",
    "cluster_df.head()"
   ]
  },
  {
   "cell_type": "markdown",
   "metadata": {
    "slideshow": {
     "slide_type": "subslide"
    }
   },
   "source": [
    "** Run the KMeans algorithm to create the clusters **"
   ]
  },
  {
   "cell_type": "code",
   "execution_count": 5,
   "metadata": {
    "slideshow": {
     "slide_type": "fragment"
    }
   },
   "outputs": [
    {
     "data": {
      "text/html": [
       "<div>\n",
       "<style scoped>\n",
       "    .dataframe tbody tr th:only-of-type {\n",
       "        vertical-align: middle;\n",
       "    }\n",
       "\n",
       "    .dataframe tbody tr th {\n",
       "        vertical-align: top;\n",
       "    }\n",
       "\n",
       "    .dataframe thead th {\n",
       "        text-align: right;\n",
       "    }\n",
       "</style>\n",
       "<table border=\"1\" class=\"dataframe\">\n",
       "  <thead>\n",
       "    <tr style=\"text-align: right;\">\n",
       "      <th></th>\n",
       "      <th>Balance</th>\n",
       "      <th>QualMiles</th>\n",
       "      <th>BonusMiles</th>\n",
       "      <th>BonusTrans</th>\n",
       "      <th>FlightMiles</th>\n",
       "      <th>FlightTrans</th>\n",
       "      <th>DaysSinceEnroll</th>\n",
       "      <th>Cluster</th>\n",
       "    </tr>\n",
       "  </thead>\n",
       "  <tbody>\n",
       "    <tr>\n",
       "      <th>0</th>\n",
       "      <td>0.016508</td>\n",
       "      <td>0.0</td>\n",
       "      <td>0.000660</td>\n",
       "      <td>0.011628</td>\n",
       "      <td>0.000000</td>\n",
       "      <td>0.000000</td>\n",
       "      <td>0.843780</td>\n",
       "      <td>3</td>\n",
       "    </tr>\n",
       "    <tr>\n",
       "      <th>1</th>\n",
       "      <td>0.011288</td>\n",
       "      <td>0.0</td>\n",
       "      <td>0.000815</td>\n",
       "      <td>0.023256</td>\n",
       "      <td>0.000000</td>\n",
       "      <td>0.000000</td>\n",
       "      <td>0.839923</td>\n",
       "      <td>3</td>\n",
       "    </tr>\n",
       "    <tr>\n",
       "      <th>2</th>\n",
       "      <td>0.024257</td>\n",
       "      <td>0.0</td>\n",
       "      <td>0.015636</td>\n",
       "      <td>0.046512</td>\n",
       "      <td>0.000000</td>\n",
       "      <td>0.000000</td>\n",
       "      <td>0.847878</td>\n",
       "      <td>3</td>\n",
       "    </tr>\n",
       "    <tr>\n",
       "      <th>3</th>\n",
       "      <td>0.008667</td>\n",
       "      <td>0.0</td>\n",
       "      <td>0.001896</td>\n",
       "      <td>0.011628</td>\n",
       "      <td>0.000000</td>\n",
       "      <td>0.000000</td>\n",
       "      <td>0.837994</td>\n",
       "      <td>3</td>\n",
       "    </tr>\n",
       "    <tr>\n",
       "      <th>4</th>\n",
       "      <td>0.057338</td>\n",
       "      <td>0.0</td>\n",
       "      <td>0.164211</td>\n",
       "      <td>0.302326</td>\n",
       "      <td>0.067398</td>\n",
       "      <td>0.075472</td>\n",
       "      <td>0.835945</td>\n",
       "      <td>0</td>\n",
       "    </tr>\n",
       "  </tbody>\n",
       "</table>\n",
       "</div>"
      ],
      "text/plain": [
       "    Balance  QualMiles  BonusMiles  BonusTrans  FlightMiles  FlightTrans  \\\n",
       "0  0.016508        0.0    0.000660    0.011628     0.000000     0.000000   \n",
       "1  0.011288        0.0    0.000815    0.023256     0.000000     0.000000   \n",
       "2  0.024257        0.0    0.015636    0.046512     0.000000     0.000000   \n",
       "3  0.008667        0.0    0.001896    0.011628     0.000000     0.000000   \n",
       "4  0.057338        0.0    0.164211    0.302326     0.067398     0.075472   \n",
       "\n",
       "   DaysSinceEnroll  Cluster  \n",
       "0         0.843780        3  \n",
       "1         0.839923        3  \n",
       "2         0.847878        3  \n",
       "3         0.837994        3  \n",
       "4         0.835945        0  "
      ]
     },
     "execution_count": 5,
     "metadata": {},
     "output_type": "execute_result"
    }
   ],
   "source": [
    "from sklearn.cluster import KMeans\n",
    "\n",
    "model = KMeans(n_clusters=5, random_state=1)  # number of clusters is a parameter\n",
    "clusters = model.fit_predict(cluster_df)\n",
    "cluster_df['Cluster'] = clusters\n",
    "cluster_df.head()"
   ]
  },
  {
   "cell_type": "markdown",
   "metadata": {
    "slideshow": {
     "slide_type": "subslide"
    }
   },
   "source": [
    "** Find cluster characteristics - Count & Mean values of each feature **"
   ]
  },
  {
   "cell_type": "code",
   "execution_count": 6,
   "metadata": {
    "slideshow": {
     "slide_type": "fragment"
    }
   },
   "outputs": [
    {
     "data": {
      "text/html": [
       "<div>\n",
       "<style scoped>\n",
       "    .dataframe tbody tr th:only-of-type {\n",
       "        vertical-align: middle;\n",
       "    }\n",
       "\n",
       "    .dataframe tbody tr th {\n",
       "        vertical-align: top;\n",
       "    }\n",
       "\n",
       "    .dataframe thead th {\n",
       "        text-align: right;\n",
       "    }\n",
       "</style>\n",
       "<table border=\"1\" class=\"dataframe\">\n",
       "  <thead>\n",
       "    <tr style=\"text-align: right;\">\n",
       "      <th></th>\n",
       "      <th>Cluster</th>\n",
       "      <th>Count</th>\n",
       "    </tr>\n",
       "  </thead>\n",
       "  <tbody>\n",
       "    <tr>\n",
       "      <th>0</th>\n",
       "      <td>0</td>\n",
       "      <td>407</td>\n",
       "    </tr>\n",
       "    <tr>\n",
       "      <th>1</th>\n",
       "      <td>1</td>\n",
       "      <td>1008</td>\n",
       "    </tr>\n",
       "    <tr>\n",
       "      <th>2</th>\n",
       "      <td>2</td>\n",
       "      <td>1150</td>\n",
       "    </tr>\n",
       "    <tr>\n",
       "      <th>3</th>\n",
       "      <td>3</td>\n",
       "      <td>872</td>\n",
       "    </tr>\n",
       "    <tr>\n",
       "      <th>4</th>\n",
       "      <td>4</td>\n",
       "      <td>562</td>\n",
       "    </tr>\n",
       "  </tbody>\n",
       "</table>\n",
       "</div>"
      ],
      "text/plain": [
       "   Cluster  Count\n",
       "0        0    407\n",
       "1        1   1008\n",
       "2        2   1150\n",
       "3        3    872\n",
       "4        4    562"
      ]
     },
     "execution_count": 6,
     "metadata": {},
     "output_type": "execute_result"
    }
   ],
   "source": [
    "# Find Count\n",
    "cluster_size = cluster_df.groupby(['Cluster']).size().reset_index()\n",
    "cluster_size.columns = ['Cluster', 'Count']\n",
    "cluster_size.head()"
   ]
  },
  {
   "cell_type": "code",
   "execution_count": 7,
   "metadata": {
    "slideshow": {
     "slide_type": "subslide"
    }
   },
   "outputs": [
    {
     "data": {
      "text/html": [
       "<div>\n",
       "<style scoped>\n",
       "    .dataframe tbody tr th:only-of-type {\n",
       "        vertical-align: middle;\n",
       "    }\n",
       "\n",
       "    .dataframe tbody tr th {\n",
       "        vertical-align: top;\n",
       "    }\n",
       "\n",
       "    .dataframe thead th {\n",
       "        text-align: right;\n",
       "    }\n",
       "</style>\n",
       "<table border=\"1\" class=\"dataframe\">\n",
       "  <thead>\n",
       "    <tr style=\"text-align: right;\">\n",
       "      <th></th>\n",
       "      <th>Cluster</th>\n",
       "      <th>Balance</th>\n",
       "      <th>QualMiles</th>\n",
       "      <th>BonusMiles</th>\n",
       "      <th>BonusTrans</th>\n",
       "      <th>FlightMiles</th>\n",
       "      <th>FlightTrans</th>\n",
       "      <th>DaysSinceEnroll</th>\n",
       "    </tr>\n",
       "  </thead>\n",
       "  <tbody>\n",
       "    <tr>\n",
       "      <th>0</th>\n",
       "      <td>0</td>\n",
       "      <td>0.108878</td>\n",
       "      <td>0.033777</td>\n",
       "      <td>0.227079</td>\n",
       "      <td>0.289869</td>\n",
       "      <td>0.048874</td>\n",
       "      <td>0.090167</td>\n",
       "      <td>0.719807</td>\n",
       "    </tr>\n",
       "    <tr>\n",
       "      <th>1</th>\n",
       "      <td>1</td>\n",
       "      <td>0.019504</td>\n",
       "      <td>0.009651</td>\n",
       "      <td>0.016007</td>\n",
       "      <td>0.062131</td>\n",
       "      <td>0.006669</td>\n",
       "      <td>0.010389</td>\n",
       "      <td>0.208147</td>\n",
       "    </tr>\n",
       "    <tr>\n",
       "      <th>2</th>\n",
       "      <td>2</td>\n",
       "      <td>0.033922</td>\n",
       "      <td>0.011592</td>\n",
       "      <td>0.038915</td>\n",
       "      <td>0.103680</td>\n",
       "      <td>0.008682</td>\n",
       "      <td>0.015209</td>\n",
       "      <td>0.524576</td>\n",
       "    </tr>\n",
       "    <tr>\n",
       "      <th>3</th>\n",
       "      <td>3</td>\n",
       "      <td>0.046449</td>\n",
       "      <td>0.007295</td>\n",
       "      <td>0.048169</td>\n",
       "      <td>0.117586</td>\n",
       "      <td>0.007047</td>\n",
       "      <td>0.012442</td>\n",
       "      <td>0.812765</td>\n",
       "    </tr>\n",
       "    <tr>\n",
       "      <th>4</th>\n",
       "      <td>4</td>\n",
       "      <td>0.051882</td>\n",
       "      <td>0.015178</td>\n",
       "      <td>0.115130</td>\n",
       "      <td>0.243979</td>\n",
       "      <td>0.030172</td>\n",
       "      <td>0.050057</td>\n",
       "      <td>0.303453</td>\n",
       "    </tr>\n",
       "  </tbody>\n",
       "</table>\n",
       "</div>"
      ],
      "text/plain": [
       "   Cluster   Balance  QualMiles  BonusMiles  BonusTrans  FlightMiles  \\\n",
       "0        0  0.108878   0.033777    0.227079    0.289869     0.048874   \n",
       "1        1  0.019504   0.009651    0.016007    0.062131     0.006669   \n",
       "2        2  0.033922   0.011592    0.038915    0.103680     0.008682   \n",
       "3        3  0.046449   0.007295    0.048169    0.117586     0.007047   \n",
       "4        4  0.051882   0.015178    0.115130    0.243979     0.030172   \n",
       "\n",
       "   FlightTrans  DaysSinceEnroll  \n",
       "0     0.090167         0.719807  \n",
       "1     0.010389         0.208147  \n",
       "2     0.015209         0.524576  \n",
       "3     0.012442         0.812765  \n",
       "4     0.050057         0.303453  "
      ]
     },
     "execution_count": 7,
     "metadata": {},
     "output_type": "execute_result"
    }
   ],
   "source": [
    "# Find Mean values\n",
    "cluster_means = cluster_df.groupby(['Cluster'], as_index=False).mean()\n",
    "cluster_means.head()"
   ]
  },
  {
   "cell_type": "markdown",
   "metadata": {
    "slideshow": {
     "slide_type": "subslide"
    }
   },
   "source": [
    "** Merge the count & mean dataframes **"
   ]
  },
  {
   "cell_type": "code",
   "execution_count": 8,
   "metadata": {
    "slideshow": {
     "slide_type": "fragment"
    }
   },
   "outputs": [
    {
     "data": {
      "text/html": [
       "<div>\n",
       "<style scoped>\n",
       "    .dataframe tbody tr th:only-of-type {\n",
       "        vertical-align: middle;\n",
       "    }\n",
       "\n",
       "    .dataframe tbody tr th {\n",
       "        vertical-align: top;\n",
       "    }\n",
       "\n",
       "    .dataframe thead th {\n",
       "        text-align: right;\n",
       "    }\n",
       "</style>\n",
       "<table border=\"1\" class=\"dataframe\">\n",
       "  <thead>\n",
       "    <tr style=\"text-align: right;\">\n",
       "      <th></th>\n",
       "      <th>Cluster</th>\n",
       "      <th>Count</th>\n",
       "      <th>Balance</th>\n",
       "      <th>QualMiles</th>\n",
       "      <th>BonusMiles</th>\n",
       "      <th>BonusTrans</th>\n",
       "      <th>FlightMiles</th>\n",
       "      <th>FlightTrans</th>\n",
       "      <th>DaysSinceEnroll</th>\n",
       "    </tr>\n",
       "  </thead>\n",
       "  <tbody>\n",
       "    <tr>\n",
       "      <th>0</th>\n",
       "      <td>0</td>\n",
       "      <td>407</td>\n",
       "      <td>0.108878</td>\n",
       "      <td>0.033777</td>\n",
       "      <td>0.227079</td>\n",
       "      <td>0.289869</td>\n",
       "      <td>0.048874</td>\n",
       "      <td>0.090167</td>\n",
       "      <td>0.719807</td>\n",
       "    </tr>\n",
       "    <tr>\n",
       "      <th>1</th>\n",
       "      <td>1</td>\n",
       "      <td>1008</td>\n",
       "      <td>0.019504</td>\n",
       "      <td>0.009651</td>\n",
       "      <td>0.016007</td>\n",
       "      <td>0.062131</td>\n",
       "      <td>0.006669</td>\n",
       "      <td>0.010389</td>\n",
       "      <td>0.208147</td>\n",
       "    </tr>\n",
       "    <tr>\n",
       "      <th>2</th>\n",
       "      <td>2</td>\n",
       "      <td>1150</td>\n",
       "      <td>0.033922</td>\n",
       "      <td>0.011592</td>\n",
       "      <td>0.038915</td>\n",
       "      <td>0.103680</td>\n",
       "      <td>0.008682</td>\n",
       "      <td>0.015209</td>\n",
       "      <td>0.524576</td>\n",
       "    </tr>\n",
       "    <tr>\n",
       "      <th>3</th>\n",
       "      <td>3</td>\n",
       "      <td>872</td>\n",
       "      <td>0.046449</td>\n",
       "      <td>0.007295</td>\n",
       "      <td>0.048169</td>\n",
       "      <td>0.117586</td>\n",
       "      <td>0.007047</td>\n",
       "      <td>0.012442</td>\n",
       "      <td>0.812765</td>\n",
       "    </tr>\n",
       "    <tr>\n",
       "      <th>4</th>\n",
       "      <td>4</td>\n",
       "      <td>562</td>\n",
       "      <td>0.051882</td>\n",
       "      <td>0.015178</td>\n",
       "      <td>0.115130</td>\n",
       "      <td>0.243979</td>\n",
       "      <td>0.030172</td>\n",
       "      <td>0.050057</td>\n",
       "      <td>0.303453</td>\n",
       "    </tr>\n",
       "  </tbody>\n",
       "</table>\n",
       "</div>"
      ],
      "text/plain": [
       "   Cluster  Count   Balance  QualMiles  BonusMiles  BonusTrans  FlightMiles  \\\n",
       "0        0    407  0.108878   0.033777    0.227079    0.289869     0.048874   \n",
       "1        1   1008  0.019504   0.009651    0.016007    0.062131     0.006669   \n",
       "2        2   1150  0.033922   0.011592    0.038915    0.103680     0.008682   \n",
       "3        3    872  0.046449   0.007295    0.048169    0.117586     0.007047   \n",
       "4        4    562  0.051882   0.015178    0.115130    0.243979     0.030172   \n",
       "\n",
       "   FlightTrans  DaysSinceEnroll  \n",
       "0     0.090167         0.719807  \n",
       "1     0.010389         0.208147  \n",
       "2     0.015209         0.524576  \n",
       "3     0.012442         0.812765  \n",
       "4     0.050057         0.303453  "
      ]
     },
     "execution_count": 8,
     "metadata": {},
     "output_type": "execute_result"
    }
   ],
   "source": [
    "cluster_summary = pd.merge(cluster_size, cluster_means, on='Cluster')\n",
    "cluster_summary.head()"
   ]
  },
  {
   "cell_type": "markdown",
   "metadata": {
    "slideshow": {
     "slide_type": "subslide"
    }
   },
   "source": [
    "** Visualize the Clusters using a heatmap to find the defining characteristics for each cluster **"
   ]
  },
  {
   "cell_type": "code",
   "execution_count": 9,
   "metadata": {
    "slideshow": {
     "slide_type": "fragment"
    }
   },
   "outputs": [
    {
     "data": {
      "text/html": [
       "<div>\n",
       "<style scoped>\n",
       "    .dataframe tbody tr th:only-of-type {\n",
       "        vertical-align: middle;\n",
       "    }\n",
       "\n",
       "    .dataframe tbody tr th {\n",
       "        vertical-align: top;\n",
       "    }\n",
       "\n",
       "    .dataframe thead th {\n",
       "        text-align: right;\n",
       "    }\n",
       "</style>\n",
       "<table border=\"1\" class=\"dataframe\">\n",
       "  <thead>\n",
       "    <tr style=\"text-align: right;\">\n",
       "      <th></th>\n",
       "      <th>0</th>\n",
       "      <th>1</th>\n",
       "      <th>2</th>\n",
       "      <th>3</th>\n",
       "      <th>4</th>\n",
       "    </tr>\n",
       "  </thead>\n",
       "  <tbody>\n",
       "    <tr>\n",
       "      <th>Balance</th>\n",
       "      <td>0.108878</td>\n",
       "      <td>0.019504</td>\n",
       "      <td>0.033922</td>\n",
       "      <td>0.046449</td>\n",
       "      <td>0.051882</td>\n",
       "    </tr>\n",
       "    <tr>\n",
       "      <th>QualMiles</th>\n",
       "      <td>0.033777</td>\n",
       "      <td>0.009651</td>\n",
       "      <td>0.011592</td>\n",
       "      <td>0.007295</td>\n",
       "      <td>0.015178</td>\n",
       "    </tr>\n",
       "    <tr>\n",
       "      <th>BonusMiles</th>\n",
       "      <td>0.227079</td>\n",
       "      <td>0.016007</td>\n",
       "      <td>0.038915</td>\n",
       "      <td>0.048169</td>\n",
       "      <td>0.115130</td>\n",
       "    </tr>\n",
       "    <tr>\n",
       "      <th>BonusTrans</th>\n",
       "      <td>0.289869</td>\n",
       "      <td>0.062131</td>\n",
       "      <td>0.103680</td>\n",
       "      <td>0.117586</td>\n",
       "      <td>0.243979</td>\n",
       "    </tr>\n",
       "    <tr>\n",
       "      <th>FlightMiles</th>\n",
       "      <td>0.048874</td>\n",
       "      <td>0.006669</td>\n",
       "      <td>0.008682</td>\n",
       "      <td>0.007047</td>\n",
       "      <td>0.030172</td>\n",
       "    </tr>\n",
       "    <tr>\n",
       "      <th>FlightTrans</th>\n",
       "      <td>0.090167</td>\n",
       "      <td>0.010389</td>\n",
       "      <td>0.015209</td>\n",
       "      <td>0.012442</td>\n",
       "      <td>0.050057</td>\n",
       "    </tr>\n",
       "    <tr>\n",
       "      <th>DaysSinceEnroll</th>\n",
       "      <td>0.719807</td>\n",
       "      <td>0.208147</td>\n",
       "      <td>0.524576</td>\n",
       "      <td>0.812765</td>\n",
       "      <td>0.303453</td>\n",
       "    </tr>\n",
       "  </tbody>\n",
       "</table>\n",
       "</div>"
      ],
      "text/plain": [
       "                        0         1         2         3         4\n",
       "Balance          0.108878  0.019504  0.033922  0.046449  0.051882\n",
       "QualMiles        0.033777  0.009651  0.011592  0.007295  0.015178\n",
       "BonusMiles       0.227079  0.016007  0.038915  0.048169  0.115130\n",
       "BonusTrans       0.289869  0.062131  0.103680  0.117586  0.243979\n",
       "FlightMiles      0.048874  0.006669  0.008682  0.007047  0.030172\n",
       "FlightTrans      0.090167  0.010389  0.015209  0.012442  0.050057\n",
       "DaysSinceEnroll  0.719807  0.208147  0.524576  0.812765  0.303453"
      ]
     },
     "execution_count": 9,
     "metadata": {},
     "output_type": "execute_result"
    }
   ],
   "source": [
    "cluster_summary[cluster_columns].transpose()"
   ]
  },
  {
   "cell_type": "code",
   "execution_count": 10,
   "metadata": {
    "slideshow": {
     "slide_type": "fragment"
    }
   },
   "outputs": [
    {
     "data": {
      "text/plain": [
       "<matplotlib.axes._subplots.AxesSubplot at 0x1a86fc6c908>"
      ]
     },
     "execution_count": 10,
     "metadata": {},
     "output_type": "execute_result"
    },
    {
     "data": {
      "image/png": "[encoded data removed]",
      "text/plain": [
       "<matplotlib.figure.Figure at 0x1a86fb94dd8>"
      ]
     },
     "metadata": {},
     "output_type": "display_data"
    }
   ],
   "source": [
    "# Visualize the Clusters using a heatmap\n",
    "sns.heatmap(cluster_summary[cluster_columns].transpose(), annot=True)"
   ]
  },
  {
   "cell_type": "markdown",
   "metadata": {
    "slideshow": {
     "slide_type": "subslide"
    }
   },
   "source": [
    "** Give meaningful, business focused names to each Cluster ** "
   ]
  },
  {
   "cell_type": "code",
   "execution_count": 15,
   "metadata": {
    "slideshow": {
     "slide_type": "fragment"
    }
   },
   "outputs": [
    {
     "data": {
      "text/html": [
       "<div>\n",
       "<style scoped>\n",
       "    .dataframe tbody tr th:only-of-type {\n",
       "        vertical-align: middle;\n",
       "    }\n",
       "\n",
       "    .dataframe tbody tr th {\n",
       "        vertical-align: top;\n",
       "    }\n",
       "\n",
       "    .dataframe thead th {\n",
       "        text-align: right;\n",
       "    }\n",
       "</style>\n",
       "<table border=\"1\" class=\"dataframe\">\n",
       "  <thead>\n",
       "    <tr style=\"text-align: right;\">\n",
       "      <th></th>\n",
       "      <th>Balance</th>\n",
       "      <th>QualMiles</th>\n",
       "      <th>BonusMiles</th>\n",
       "      <th>BonusTrans</th>\n",
       "      <th>FlightMiles</th>\n",
       "      <th>FlightTrans</th>\n",
       "      <th>DaysSinceEnroll</th>\n",
       "      <th>Cluster</th>\n",
       "      <th>Cluster Name</th>\n",
       "    </tr>\n",
       "  </thead>\n",
       "  <tbody>\n",
       "    <tr>\n",
       "      <th>0</th>\n",
       "      <td>0.016508</td>\n",
       "      <td>0.0</td>\n",
       "      <td>0.000660</td>\n",
       "      <td>0.011628</td>\n",
       "      <td>0.000000</td>\n",
       "      <td>0.000000</td>\n",
       "      <td>0.843780</td>\n",
       "      <td>3</td>\n",
       "      <td>Dormant Customer</td>\n",
       "    </tr>\n",
       "    <tr>\n",
       "      <th>1</th>\n",
       "      <td>0.011288</td>\n",
       "      <td>0.0</td>\n",
       "      <td>0.000815</td>\n",
       "      <td>0.023256</td>\n",
       "      <td>0.000000</td>\n",
       "      <td>0.000000</td>\n",
       "      <td>0.839923</td>\n",
       "      <td>3</td>\n",
       "      <td>Dormant Customer</td>\n",
       "    </tr>\n",
       "    <tr>\n",
       "      <th>2</th>\n",
       "      <td>0.024257</td>\n",
       "      <td>0.0</td>\n",
       "      <td>0.015636</td>\n",
       "      <td>0.046512</td>\n",
       "      <td>0.000000</td>\n",
       "      <td>0.000000</td>\n",
       "      <td>0.847878</td>\n",
       "      <td>3</td>\n",
       "      <td>Dormant Customer</td>\n",
       "    </tr>\n",
       "    <tr>\n",
       "      <th>3</th>\n",
       "      <td>0.008667</td>\n",
       "      <td>0.0</td>\n",
       "      <td>0.001896</td>\n",
       "      <td>0.011628</td>\n",
       "      <td>0.000000</td>\n",
       "      <td>0.000000</td>\n",
       "      <td>0.837994</td>\n",
       "      <td>3</td>\n",
       "      <td>Dormant Customer</td>\n",
       "    </tr>\n",
       "    <tr>\n",
       "      <th>4</th>\n",
       "      <td>0.057338</td>\n",
       "      <td>0.0</td>\n",
       "      <td>0.164211</td>\n",
       "      <td>0.302326</td>\n",
       "      <td>0.067398</td>\n",
       "      <td>0.075472</td>\n",
       "      <td>0.835945</td>\n",
       "      <td>0</td>\n",
       "      <td>LongTimeCustomer-PointAccumulator</td>\n",
       "    </tr>\n",
       "  </tbody>\n",
       "</table>\n",
       "</div>"
      ],
      "text/plain": [
       "    Balance  QualMiles  BonusMiles  BonusTrans  FlightMiles  FlightTrans  \\\n",
       "0  0.016508        0.0    0.000660    0.011628     0.000000     0.000000   \n",
       "1  0.011288        0.0    0.000815    0.023256     0.000000     0.000000   \n",
       "2  0.024257        0.0    0.015636    0.046512     0.000000     0.000000   \n",
       "3  0.008667        0.0    0.001896    0.011628     0.000000     0.000000   \n",
       "4  0.057338        0.0    0.164211    0.302326     0.067398     0.075472   \n",
       "\n",
       "   DaysSinceEnroll  Cluster                       Cluster Name  \n",
       "0         0.843780        3                   Dormant Customer  \n",
       "1         0.839923        3                   Dormant Customer  \n",
       "2         0.847878        3                   Dormant Customer  \n",
       "3         0.837994        3                   Dormant Customer  \n",
       "4         0.835945        0  LongTimeCustomer-PointAccumulator  "
      ]
     },
     "execution_count": 15,
     "metadata": {},
     "output_type": "execute_result"
    }
   ],
   "source": [
    "pd.set_option('mode.chained_assignment', None)\n",
    "\n",
    "cluster_df['Cluster Name'] = ''\n",
    "cluster_df['Cluster Name'][cluster_df['Cluster']==0] = 'LongTimeCustomer-PointAccumulator'\n",
    "cluster_df['Cluster Name'][cluster_df['Cluster']==1] = 'New Customer-Infrequent Flier'\n",
    "cluster_df['Cluster Name'][cluster_df['Cluster']==2] = 'MediumVintage-Occasional Flier'\n",
    "cluster_df['Cluster Name'][cluster_df['Cluster']==3] = 'Dormant Customer'\n",
    "cluster_df['Cluster Name'][cluster_df['Cluster']==4] = 'New Customer-Frequent Flier'\n",
    "\n",
    "cluster_df.head()"
   ]
  },
  {
   "cell_type": "markdown",
   "metadata": {
    "slideshow": {
     "slide_type": "subslide"
    }
   },
   "source": [
    "** Update the original dataframe with cluster details **"
   ]
  },
  {
   "cell_type": "code",
   "execution_count": 12,
   "metadata": {
    "slideshow": {
     "slide_type": "fragment"
    }
   },
   "outputs": [
    {
     "data": {
      "text/html": [
       "<div>\n",
       "<style scoped>\n",
       "    .dataframe tbody tr th:only-of-type {\n",
       "        vertical-align: middle;\n",
       "    }\n",
       "\n",
       "    .dataframe tbody tr th {\n",
       "        vertical-align: top;\n",
       "    }\n",
       "\n",
       "    .dataframe thead th {\n",
       "        text-align: right;\n",
       "    }\n",
       "</style>\n",
       "<table border=\"1\" class=\"dataframe\">\n",
       "  <thead>\n",
       "    <tr style=\"text-align: right;\">\n",
       "      <th></th>\n",
       "      <th>Balance</th>\n",
       "      <th>QualMiles</th>\n",
       "      <th>BonusMiles</th>\n",
       "      <th>BonusTrans</th>\n",
       "      <th>FlightMiles</th>\n",
       "      <th>FlightTrans</th>\n",
       "      <th>DaysSinceEnroll</th>\n",
       "      <th>Cluster</th>\n",
       "      <th>Cluster Name</th>\n",
       "    </tr>\n",
       "  </thead>\n",
       "  <tbody>\n",
       "    <tr>\n",
       "      <th>0</th>\n",
       "      <td>28143</td>\n",
       "      <td>0</td>\n",
       "      <td>174</td>\n",
       "      <td>1</td>\n",
       "      <td>0</td>\n",
       "      <td>0</td>\n",
       "      <td>7000</td>\n",
       "      <td>3</td>\n",
       "      <td>Dormant Customer</td>\n",
       "    </tr>\n",
       "    <tr>\n",
       "      <th>1</th>\n",
       "      <td>19244</td>\n",
       "      <td>0</td>\n",
       "      <td>215</td>\n",
       "      <td>2</td>\n",
       "      <td>0</td>\n",
       "      <td>0</td>\n",
       "      <td>6968</td>\n",
       "      <td>3</td>\n",
       "      <td>Dormant Customer</td>\n",
       "    </tr>\n",
       "    <tr>\n",
       "      <th>2</th>\n",
       "      <td>41354</td>\n",
       "      <td>0</td>\n",
       "      <td>4123</td>\n",
       "      <td>4</td>\n",
       "      <td>0</td>\n",
       "      <td>0</td>\n",
       "      <td>7034</td>\n",
       "      <td>3</td>\n",
       "      <td>Dormant Customer</td>\n",
       "    </tr>\n",
       "    <tr>\n",
       "      <th>3</th>\n",
       "      <td>14776</td>\n",
       "      <td>0</td>\n",
       "      <td>500</td>\n",
       "      <td>1</td>\n",
       "      <td>0</td>\n",
       "      <td>0</td>\n",
       "      <td>6952</td>\n",
       "      <td>3</td>\n",
       "      <td>Dormant Customer</td>\n",
       "    </tr>\n",
       "    <tr>\n",
       "      <th>4</th>\n",
       "      <td>97752</td>\n",
       "      <td>0</td>\n",
       "      <td>43300</td>\n",
       "      <td>26</td>\n",
       "      <td>2077</td>\n",
       "      <td>4</td>\n",
       "      <td>6935</td>\n",
       "      <td>0</td>\n",
       "      <td>LongTimeCustomer-PointAccumulator</td>\n",
       "    </tr>\n",
       "  </tbody>\n",
       "</table>\n",
       "</div>"
      ],
      "text/plain": [
       "   Balance  QualMiles  BonusMiles  BonusTrans  FlightMiles  FlightTrans  \\\n",
       "0    28143          0         174           1            0            0   \n",
       "1    19244          0         215           2            0            0   \n",
       "2    41354          0        4123           4            0            0   \n",
       "3    14776          0         500           1            0            0   \n",
       "4    97752          0       43300          26         2077            4   \n",
       "\n",
       "   DaysSinceEnroll  Cluster                       Cluster Name  \n",
       "0             7000        3                   Dormant Customer  \n",
       "1             6968        3                   Dormant Customer  \n",
       "2             7034        3                   Dormant Customer  \n",
       "3             6952        3                   Dormant Customer  \n",
       "4             6935        0  LongTimeCustomer-PointAccumulator  "
      ]
     },
     "execution_count": 12,
     "metadata": {},
     "output_type": "execute_result"
    }
   ],
   "source": [
    "airCust = airCust.reset_index().drop('index', axis=1)\n",
    "airCust['Cluster'] = cluster_df['Cluster']\n",
    "airCust['Cluster Name'] = cluster_df['Cluster Name']\n",
    "airCust.head()"
   ]
  },
  {
   "cell_type": "markdown",
   "metadata": {
    "slideshow": {
     "slide_type": "subslide"
    }
   },
   "source": [
    "** Randomly select some records to understand the clustering output **"
   ]
  },
  {
   "cell_type": "code",
   "execution_count": 13,
   "metadata": {
    "slideshow": {
     "slide_type": "fragment"
    }
   },
   "outputs": [
    {
     "data": {
      "text/html": [
       "<div>\n",
       "<style scoped>\n",
       "    .dataframe tbody tr th:only-of-type {\n",
       "        vertical-align: middle;\n",
       "    }\n",
       "\n",
       "    .dataframe tbody tr th {\n",
       "        vertical-align: top;\n",
       "    }\n",
       "\n",
       "    .dataframe thead th {\n",
       "        text-align: right;\n",
       "    }\n",
       "</style>\n",
       "<table border=\"1\" class=\"dataframe\">\n",
       "  <thead>\n",
       "    <tr style=\"text-align: right;\">\n",
       "      <th></th>\n",
       "      <th>Balance</th>\n",
       "      <th>QualMiles</th>\n",
       "      <th>BonusMiles</th>\n",
       "      <th>BonusTrans</th>\n",
       "      <th>FlightMiles</th>\n",
       "      <th>FlightTrans</th>\n",
       "      <th>DaysSinceEnroll</th>\n",
       "      <th>Cluster</th>\n",
       "      <th>Cluster Name</th>\n",
       "    </tr>\n",
       "  </thead>\n",
       "  <tbody>\n",
       "    <tr>\n",
       "      <th>904</th>\n",
       "      <td>15835</td>\n",
       "      <td>0</td>\n",
       "      <td>112171</td>\n",
       "      <td>16</td>\n",
       "      <td>0</td>\n",
       "      <td>0</td>\n",
       "      <td>5825</td>\n",
       "      <td>0</td>\n",
       "      <td>LongTimeCustomer-PointAccumulator</td>\n",
       "    </tr>\n",
       "    <tr>\n",
       "      <th>3740</th>\n",
       "      <td>25054</td>\n",
       "      <td>0</td>\n",
       "      <td>32592</td>\n",
       "      <td>17</td>\n",
       "      <td>3409</td>\n",
       "      <td>6</td>\n",
       "      <td>486</td>\n",
       "      <td>1</td>\n",
       "      <td>New Customer-Infrequent Flier</td>\n",
       "    </tr>\n",
       "    <tr>\n",
       "      <th>3400</th>\n",
       "      <td>5625</td>\n",
       "      <td>0</td>\n",
       "      <td>2350</td>\n",
       "      <td>12</td>\n",
       "      <td>0</td>\n",
       "      <td>0</td>\n",
       "      <td>1270</td>\n",
       "      <td>1</td>\n",
       "      <td>New Customer-Infrequent Flier</td>\n",
       "    </tr>\n",
       "    <tr>\n",
       "      <th>1744</th>\n",
       "      <td>109114</td>\n",
       "      <td>0</td>\n",
       "      <td>31956</td>\n",
       "      <td>27</td>\n",
       "      <td>0</td>\n",
       "      <td>0</td>\n",
       "      <td>4512</td>\n",
       "      <td>2</td>\n",
       "      <td>MediumVintage-Occasional Flier</td>\n",
       "    </tr>\n",
       "    <tr>\n",
       "      <th>3177</th>\n",
       "      <td>43285</td>\n",
       "      <td>0</td>\n",
       "      <td>745</td>\n",
       "      <td>3</td>\n",
       "      <td>0</td>\n",
       "      <td>0</td>\n",
       "      <td>2436</td>\n",
       "      <td>1</td>\n",
       "      <td>New Customer-Infrequent Flier</td>\n",
       "    </tr>\n",
       "  </tbody>\n",
       "</table>\n",
       "</div>"
      ],
      "text/plain": [
       "      Balance  QualMiles  BonusMiles  BonusTrans  FlightMiles  FlightTrans  \\\n",
       "904     15835          0      112171          16            0            0   \n",
       "3740    25054          0       32592          17         3409            6   \n",
       "3400     5625          0        2350          12            0            0   \n",
       "1744   109114          0       31956          27            0            0   \n",
       "3177    43285          0         745           3            0            0   \n",
       "\n",
       "      DaysSinceEnroll  Cluster                       Cluster Name  \n",
       "904              5825        0  LongTimeCustomer-PointAccumulator  \n",
       "3740              486        1      New Customer-Infrequent Flier  \n",
       "3400             1270        1      New Customer-Infrequent Flier  \n",
       "1744             4512        2     MediumVintage-Occasional Flier  \n",
       "3177             2436        1      New Customer-Infrequent Flier  "
      ]
     },
     "execution_count": 13,
     "metadata": {},
     "output_type": "execute_result"
    }
   ],
   "source": [
    "airCust.sample(5)"
   ]
  },
  {
   "cell_type": "markdown",
   "metadata": {
    "slideshow": {
     "slide_type": "subslide"
    }
   },
   "source": [
    "** [Optional] - Finding optimal number of clusters **"
   ]
  },
  {
   "cell_type": "code",
   "execution_count": 14,
   "metadata": {
    "slideshow": {
     "slide_type": "fragment"
    }
   },
   "outputs": [
    {
     "data": {
      "image/png": "[encoded data removed]",
      "text/plain": [
       "<matplotlib.figure.Figure at 0x1a872087588>"
      ]
     },
     "metadata": {},
     "output_type": "display_data"
    }
   ],
   "source": [
    "# Function to find optimal number of clusters using elbow method\n",
    "def find_optimal_num_clusters(df):\n",
    "    wcss = []\n",
    "    for i in range(1, 11):\n",
    "        kmeans = KMeans(n_clusters = i, init = 'k-means++', random_state = 42)\n",
    "        kmeans.fit(df)\n",
    "        wcss.append(kmeans.inertia_)\n",
    "\n",
    "    plt.plot(range(1, 11), wcss)\n",
    "    plt.title('The Elbow Method')\n",
    "    plt.xlabel('Number of clusters')\n",
    "    plt.ylabel('WCSS')\n",
    "    plt.show()\n",
    "    \n",
    "# Using the elbow method to find the optimal number of clusters\n",
    "find_optimal_num_clusters(cluster_df[cluster_columns])"
   ]
  }
 ],
 "metadata": {
  "anaconda-cloud": {},
  "celltoolbar": "Slideshow",
  "kernelspec": {
   "display_name": "Python [Root]",
   "language": "python",
   "name": "Python [Root]"
  },
  "language_info": {
   "codemirror_mode": {
    "name": "ipython",
    "version": 3
   },
   "file_extension": ".py",
   "mimetype": "text/x-python",
   "name": "python",
   "nbconvert_exporter": "python",
   "pygments_lexer": "ipython3",
   "version": "3.5.2"
  }
 },
 "nbformat": 4,
 "nbformat_minor": 2
}
